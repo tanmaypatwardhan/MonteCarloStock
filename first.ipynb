{
 "cells": [
  {
   "cell_type": "code",
   "execution_count": 1,
   "metadata": {},
   "outputs": [],
   "source": [
    "import numpy as np\n",
    "import pandas as pd\n",
    "import matplotlib.pyplot as plt\n",
    "from datetime import date\n",
    "import seaborn as sns\n",
    "import yfinance as yf\n",
    "from scipy.stats import norm\n",
    "from scipy.stats import cauchy "
   ]
  },
  {
   "cell_type": "code",
   "execution_count": 3,
   "metadata": {},
   "outputs": [
    {
     "name": "stderr",
     "output_type": "stream",
     "text": [
      "[*********************100%***********************]  1 of 1 completed\n",
      "[*********************100%***********************]  1 of 1 completed\n",
      "[*********************100%***********************]  1 of 1 completed\n"
     ]
    },
    {
     "name": "stdout",
     "output_type": "stream",
     "text": [
      "Percent change: 21.458517221889814%\n",
      "Average profit: $794.6108545186512\n",
      "Average value: $3703.0091422536357\n",
      "0       3366.145896\n",
      "1       3848.201432\n",
      "2       3329.482643\n",
      "3       5270.183998\n",
      "4       2970.608343\n",
      "           ...     \n",
      "9995    3459.746578\n",
      "9996    3158.969068\n",
      "9997    3307.970781\n",
      "9998    3921.765337\n",
      "9999    3443.053133\n",
      "Name: 364, Length: 10000, dtype: float64\n"
     ]
    }
   ],
   "source": [
    "def getData(stocks, num_shares, start = \"2010-01-01\"):\n",
    "    data = pd.DataFrame()\n",
    "    for i in range(0, len(stocks)):\n",
    "        data[i] = yf.download(stocks[i], start)['Adj Close'] * num_shares[i]\n",
    "    \n",
    "    result = np.sum(data, axis = 1)\n",
    "    return result\n",
    "\n",
    "\n",
    "def computeReturns(data, iterations, days):\n",
    "    log_return = np.log(1 + data.pct_change())\n",
    "    mu = log_return.mean()\n",
    "    var = log_return.var()\n",
    "    drift = (mu - (0.5 * var))\n",
    "\n",
    "    std_dev = log_return.std()\n",
    "\n",
    "  \n",
    "    result = np.exp(drift + std_dev * norm.rvs(size = (days, iterations)))\n",
    "    \n",
    "    prices = np.zeros_like(result)\n",
    "    prices[0] = data.iloc[-1]\n",
    "    for i in range(1, days):\n",
    "        prices[i] = prices[i - 1] * result[i]\n",
    "\n",
    "    x = pd.DataFrame(prices).iloc[-1]\n",
    "    \n",
    "    #graph = sns.histplot(x, stat=\"density\", kde=True)\n",
    "    #graph.lines[0].set_color('crimson')\n",
    "    \n",
    "    #for i in range(prices.shape[1]):  \n",
    "        #plt.plot(prices[:, i], lw=1)\n",
    "\n",
    "    avg_price = prices[-1].sum()/iterations\n",
    "    percent_change = (avg_price - prices[0][0])/avg_price * 100\n",
    "    avg_profit = (prices[-1] - prices[0]).sum()/iterations\n",
    "    \n",
    "    print(f'Percent change: {percent_change}%')\n",
    "    print(f'Average profit: ${avg_profit}')\n",
    "    print(f'Average value: ${avg_price}')\n",
    "\n",
    "    return x\n",
    "\n",
    "#computeReturns(getData([\"GOOGL\", \"RTX\", \"VOO\", \"TSM\", \"BRK-B\"], [51.37, 91, 13.05, 9.17, 15]), 10000, 365)\n",
    "x = computeReturns(getData([\"VOO\", \"NVDA\", \"SCHD\"], [3.51, 5.13, 5.86]), 10000, 365)\n"
   ]
  },
  {
   "cell_type": "code",
   "execution_count": null,
   "metadata": {},
   "outputs": [],
   "source": []
  }
 ],
 "metadata": {
  "kernelspec": {
   "display_name": "Python 3",
   "language": "python",
   "name": "python3"
  },
  "language_info": {
   "codemirror_mode": {
    "name": "ipython",
    "version": 3
   },
   "file_extension": ".py",
   "mimetype": "text/x-python",
   "name": "python",
   "nbconvert_exporter": "python",
   "pygments_lexer": "ipython3",
   "version": "3.9.19"
  }
 },
 "nbformat": 4,
 "nbformat_minor": 2
}
