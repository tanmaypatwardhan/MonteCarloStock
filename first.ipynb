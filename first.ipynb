{
 "cells": [
  {
   "cell_type": "code",
   "execution_count": 2,
   "metadata": {},
   "outputs": [],
   "source": [
    "import numpy as np\n",
    "import pandas as pd\n",
    "import matplotlib.pyplot as plt\n",
    "from datetime import date\n",
    "import yfinance as yf\n",
    "from scipy.stats import norm\n",
    "from scipy.stats import cauchy "
   ]
  },
  {
   "cell_type": "code",
   "execution_count": 46,
   "metadata": {},
   "outputs": [
    {
     "name": "stderr",
     "output_type": "stream",
     "text": [
      "[*********************100%***********************]  1 of 1 completed\n"
     ]
    },
    {
     "name": "stdout",
     "output_type": "stream",
     "text": [
      "22.456821232256765\n",
      "236.07801421234336\n"
     ]
    }
   ],
   "source": [
    "def getData(stocks, num_shares, start = \"2010-01-01\"):\n",
    "    data = pd.DataFrame()\n",
    "    for i in range(0, len(stocks)):\n",
    "        data[i] = yf.download(stocks[i], start)['Adj Close'] * num_shares[i]\n",
    "    \n",
    "    result = np.sum(data, axis = 1)\n",
    "    return result\n",
    "\n",
    "\n",
    "def computeReturns(data, iterations, days):\n",
    "    log_return = np.log(1 + data.pct_change())\n",
    "    mu = log_return.mean()\n",
    "    var = log_return.var()\n",
    "    drift = (mu - (0.5 * var))\n",
    "\n",
    "    std_dev = log_return.std()\n",
    "\n",
    "  \n",
    "    result = np.exp(drift + std_dev * norm.rvs(size = (days, iterations)))\n",
    "    \n",
    "    prices = np.zeros_like(result)\n",
    "    prices[0] = data.iloc[-1]\n",
    "    for i in range(1, days):\n",
    "        prices[i] = prices[i - 1] * result[i]\n",
    "    \n",
    "    #for i in range(prices.shape[1]):  \n",
    "        #plt.plot(prices[:, i], lw=1)\n",
    "\n",
    "    avg_price = prices[-1].sum()/iterations\n",
    "    percent_change = (avg_price - prices[0][0])/avg_price * 100\n",
    "    avg_profit = (prices[-1] - prices[0]).sum()/iterations\n",
    "    print(percent_change)\n",
    "    print(avg_profit)\n",
    "\n",
    "\n",
    "computeReturns(getData([\"NVDA\"], [5]), 10000, 728)\n"
   ]
  }
 ],
 "metadata": {
  "kernelspec": {
   "display_name": "Python 3",
   "language": "python",
   "name": "python3"
  },
  "language_info": {
   "codemirror_mode": {
    "name": "ipython",
    "version": 3
   },
   "file_extension": ".py",
   "mimetype": "text/x-python",
   "name": "python",
   "nbconvert_exporter": "python",
   "pygments_lexer": "ipython3",
   "version": "3.9.19"
  }
 },
 "nbformat": 4,
 "nbformat_minor": 2
}
